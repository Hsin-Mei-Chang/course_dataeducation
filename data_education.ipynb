{
 "cells": [
  {
   "cell_type": "code",
   "execution_count": 2,
   "metadata": {},
   "outputs": [
    {
     "name": "stdout",
     "output_type": "stream",
     "text": [
      "12\n"
     ]
    }
   ],
   "source": [
    "import pandas as pd\n",
    "df = pd.read_csv('edu_bigdata_imp1.csv',encoding=\"big5\",low_memory=False)\n",
    "df_filter39=df[df['PseudoID']==39]\n",
    "uni_value39=df_filter39['dp001_review_sn'].unique()\n",
    "print(len(uni_value39))\n",
    "# 1.1 於 dp001 平台總共進行幾次不重複的影片瀏覽的學習紀錄?\n",
    "# (dp001_review_sn)(dp001_video_item_sn)"
   ]
  },
  {
   "cell_type": "code",
   "execution_count": 3,
   "metadata": {},
   "outputs": [
    {
     "name": "stdout",
     "output_type": "stream",
     "text": [
      "3\n"
     ]
    }
   ],
   "source": [
    "df_filter39=df_filter39.dropna(subset=['dp001_question_sn'])\n",
    "unique_value39=df_filter39['dp001_question_sn'].unique()\n",
    "print(len(unique_value39))\n",
    "# 1.2 於 dp001 平台瀏覽影片時,總共進行幾次不重複的檢核點作\n",
    "# 答?(dp001_question_sn)"
   ]
  },
  {
   "cell_type": "code",
   "execution_count": 4,
   "metadata": {},
   "outputs": [
    {
     "name": "stdout",
     "output_type": "stream",
     "text": [
      "        dp001_video_item_sn dp001_indicator\n",
      "220121                513.0       111-3a-01\n",
      "220165              10044.0       111-3a-02\n",
      "220217               1087.0      5-n-10-S01\n"
     ]
    }
   ],
   "source": [
    "df_filter281=df[df['PseudoID']==281]\n",
    "df_filter281=df_filter281.dropna(subset=['dp001_indicator'])\n",
    "value=df_filter281.drop_duplicates(subset='dp001_video_item_sn')\n",
    "print(value[['dp001_video_item_sn','dp001_indicator']])\n",
    "\n",
    "# 2.1 於 dp001 平台總共瀏覽過哪些不重複的影片且對應的能力指標\n",
    "# (dp001_indicator)為何?\n",
    "# print(value['value','dp001_indicator'])\n",
    "# # 過濾na"
   ]
  },
  {
   "cell_type": "code",
   "execution_count": 5,
   "metadata": {},
   "outputs": [
    {
     "name": "stdout",
     "output_type": "stream",
     "text": [
      "dp001_prac_score_rate\n",
      "True     346\n",
      "False    294\n",
      "Name: count, dtype: int64\n"
     ]
    }
   ],
   "source": [
    "accuracy=df_filter281['dp001_prac_score_rate']==100\n",
    "print(accuracy.value_counts())\n"
   ]
  },
  {
   "cell_type": "code",
   "execution_count": 7,
   "metadata": {},
   "outputs": [
    {
     "name": "stdout",
     "output_type": "stream",
     "text": [
      "346\n"
     ]
    }
   ],
   "source": [
    "df_filter=df[(df['PseudoID']==281) & (df['dp001_prac_score_rate']==100)]\n",
    "print(len(df_filter))\n",
    "# 2.2 於 dp001 平台共有幾次的練習題作答紀錄正確率\n",
    "# (dp001_prac_score_rate )是 100?"
   ]
  },
  {
   "cell_type": "code",
   "execution_count": 8,
   "metadata": {},
   "outputs": [
    {
     "name": "stdout",
     "output_type": "stream",
     "text": [
      "578\n"
     ]
    }
   ],
   "source": [
    "df_filter71=df[(df['dp001_record_plus_view_action']=='paused')&(df['PseudoID']==71)]\n",
    "paused_times=len(df_filter71)\n",
    "print(paused_times)\n",
    "# 3.1 於 dp001 平台的瀏覽影片時,操作行為名稱為「暫停」總共有幾\n",
    "# 次? (dp001_record_plus_view_action)"
   ]
  },
  {
   "cell_type": "code",
   "execution_count": 9,
   "metadata": {},
   "outputs": [
    {
     "name": "stdout",
     "output_type": "stream",
     "text": [
      "       dp001_review_start_time dp001_review_end_time\n",
      "111278              2022-08-19            2022-08-19\n",
      "112485              2022-09-16            2022-09-16\n",
      "112536              2022-08-21            2022-08-21\n"
     ]
    },
    {
     "name": "stderr",
     "output_type": "stream",
     "text": [
      "C:\\Users\\user\\AppData\\Local\\Temp\\ipykernel_28020\\2304288347.py:2: SettingWithCopyWarning: \n",
      "A value is trying to be set on a copy of a slice from a DataFrame.\n",
      "Try using .loc[row_indexer,col_indexer] = value instead\n",
      "\n",
      "See the caveats in the documentation: https://pandas.pydata.org/pandas-docs/stable/user_guide/indexing.html#returning-a-view-versus-a-copy\n",
      "  df_filter71['dp001_review_start_time']=pd.to_datetime(df_filter71['dp001_review_start_time']).dt.date\n",
      "C:\\Users\\user\\AppData\\Local\\Temp\\ipykernel_28020\\2304288347.py:3: SettingWithCopyWarning: \n",
      "A value is trying to be set on a copy of a slice from a DataFrame.\n",
      "Try using .loc[row_indexer,col_indexer] = value instead\n",
      "\n",
      "See the caveats in the documentation: https://pandas.pydata.org/pandas-docs/stable/user_guide/indexing.html#returning-a-view-versus-a-copy\n",
      "  df_filter71['dp001_review_end_time']=pd.to_datetime(df_filter71['dp001_review_end_time']).dt.date\n"
     ]
    }
   ],
   "source": [
    "df_filter71=df[df['PseudoID']==71]\n",
    "df_filter71['dp001_review_start_time']=pd.to_datetime(df_filter71['dp001_review_start_time']).dt.date\n",
    "df_filter71['dp001_review_end_time']=pd.to_datetime(df_filter71['dp001_review_end_time']).dt.date\n",
    "\n",
    "value=df_filter71.drop_duplicates(subset='dp001_review_start_time')\n",
    "print(value[['dp001_review_start_time','dp001_review_end_time']])\n",
    "# 3.2 分別於哪幾天進入 dp001 平台?\n",
    "# (dp001_review_start_time)( dp001_review_end_time)"
   ]
  },
  {
   "cell_type": "code",
   "execution_count": 103,
   "metadata": {},
   "outputs": [
    {
     "name": "stdout",
     "output_type": "stream",
     "text": [
      "11043810.0 12410\n"
     ]
    }
   ],
   "source": [
    "review=df['dp001_review_sn'].value_counts()\n",
    "max_value = review.idxmax()\n",
    "max_count = review.max()\n",
    "\n",
    "print(f\"{max_value} {max_count}\")\n",
    "\n",
    "# 4.1 請找出在 dp001 平台中,最多影片瀏覽行為的影片序號\n",
    "# (dp001_review_sn)及其次數為多少?"
   ]
  },
  {
   "cell_type": "code",
   "execution_count": 108,
   "metadata": {},
   "outputs": [
    {
     "name": "stdout",
     "output_type": "stream",
     "text": [
      "229\n"
     ]
    }
   ],
   "source": [
    "resource=df[df['dp002_extensions_alignment']=='[\"十二年國民基本教育類\"]']\n",
    "\n",
    "print (len(resource))\n",
    "# 4.2 請找出在 dp002 平台中,操作資源的知識架構分類中為「十二年\n",
    "# 國民基本教育類」總共有幾筆? (dp002_extensions_alignment)"
   ]
  },
  {
   "cell_type": "code",
   "execution_count": 118,
   "metadata": {},
   "outputs": [
    {
     "name": "stdout",
     "output_type": "stream",
     "text": [
      "dp002_verb_display_zh_TW\n",
      "查看      126766\n",
      "查詢參考      1564\n",
      "下載         497\n",
      "Name: count, dtype: int64\n"
     ]
    }
   ],
   "source": [
    "display=df['dp002_verb_display_zh_TW'].dropna()\n",
    "num_display=display.value_counts()\n",
    "\n",
    "print (num_display[:3])\n",
    "# 4.3 請找出在 dp002 平台中,前 3 個最常發生的操作行為名稱\n",
    "# (dp002_verb_display_zh_TW)"
   ]
  },
  {
   "cell_type": "code",
   "execution_count": 119,
   "metadata": {},
   "outputs": [
    {
     "name": "stdout",
     "output_type": "stream",
     "text": [
      "5375\n"
     ]
    }
   ],
   "source": [
    "resource=df[df['dp002_extensions_alignment']=='[\"校園職業安全\"]']\n",
    "\n",
    "print (len(resource))\n",
    "# 4.4 請找出在 dp002 平台中,操作資源的知識架構分類中為「校園職\n",
    "# 業安全」總共有幾筆? (dp002_extensions_alignment)"
   ]
  }
 ],
 "metadata": {
  "kernelspec": {
   "display_name": "Python 3",
   "language": "python",
   "name": "python3"
  },
  "language_info": {
   "codemirror_mode": {
    "name": "ipython",
    "version": 3
   },
   "file_extension": ".py",
   "mimetype": "text/x-python",
   "name": "python",
   "nbconvert_exporter": "python",
   "pygments_lexer": "ipython3",
   "version": "3.10.9"
  }
 },
 "nbformat": 4,
 "nbformat_minor": 2
}
